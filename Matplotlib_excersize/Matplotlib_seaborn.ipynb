{
 "cells": [
  {
   "cell_type": "markdown",
   "id": "b851b141",
   "metadata": {},
   "source": [
    "### Matplotlib \n",
    "### Seaborn"
   ]
  },
  {
   "cell_type": "markdown",
   "id": "3baf8ba4",
   "metadata": {},
   "source": [
    "Matplotlib is a plotting library for the python programming language and its numerical matehematical extension Numpy.\n",
    "it provides an object oriented API for embedding plots into applications using general purpose GUI\n",
    "toolkits like Tikinter, wxPython, Qt or GTK+.\n",
    "\n",
    "Some of the major Pros of Matplotlib are:\n",
    "1. Generally easy to get started for the simple plots\n",
    "2. support for custom labels and texts.\n",
    "3. Great control of every element in a figuare.\n",
    "4. High quality outputs in many formats.\n",
    "5. very customizable in general."
   ]
  },
  {
   "cell_type": "code",
   "execution_count": 1,
   "id": "6b9eb1bc",
   "metadata": {},
   "outputs": [
    {
     "name": "stderr",
     "output_type": "stream",
     "text": [
      "WARNING: Ignoring invalid distribution -ffi (c:\\users\\user\\anaconda3\\lib\\site-packages)\n",
      "ERROR: Invalid requirement: '#not'\n",
      "WARNING: Ignoring invalid distribution -ffi (c:\\users\\user\\anaconda3\\lib\\site-packages)\n",
      "WARNING: Ignoring invalid distribution -ffi (c:\\users\\user\\anaconda3\\lib\\site-packages)\n",
      "WARNING: Ignoring invalid distribution -ffi (c:\\users\\user\\anaconda3\\lib\\site-packages)\n"
     ]
    }
   ],
   "source": [
    "#install matplotlib\n",
    "!pip install matplotlib #not required in google colab"
   ]
  },
  {
   "cell_type": "code",
   "execution_count": 2,
   "id": "3248ede8",
   "metadata": {},
   "outputs": [],
   "source": [
    "import matplotlib.pyplot as plt #it is an alias\n",
    "%matplotlib inline"
   ]
  },
  {
   "cell_type": "code",
   "execution_count": 3,
   "id": "db101f30",
   "metadata": {},
   "outputs": [],
   "source": [
    "import numpy as np"
   ]
  },
  {
   "cell_type": "code",
   "execution_count": 4,
   "id": "6ab1eb19",
   "metadata": {},
   "outputs": [],
   "source": [
    "x=np.arange(0,10)\n",
    "y=np.arange(11,21)"
   ]
  },
  {
   "cell_type": "code",
   "execution_count": 5,
   "id": "00bebbd9",
   "metadata": {},
   "outputs": [
    {
     "data": {
      "text/plain": [
       "array([0, 1, 2, 3, 4, 5, 6, 7, 8, 9])"
      ]
     },
     "execution_count": 5,
     "metadata": {},
     "output_type": "execute_result"
    }
   ],
   "source": [
    "x"
   ]
  },
  {
   "cell_type": "code",
   "execution_count": 6,
   "id": "86bb934d",
   "metadata": {},
   "outputs": [
    {
     "data": {
      "text/plain": [
       "array([11, 12, 13, 14, 15, 16, 17, 18, 19, 20])"
      ]
     },
     "execution_count": 6,
     "metadata": {},
     "output_type": "execute_result"
    }
   ],
   "source": [
    "y"
   ]
  },
  {
   "cell_type": "code",
   "execution_count": 7,
   "id": "ce7f1581",
   "metadata": {},
   "outputs": [
    {
     "data": {
      "text/plain": [
       "<matplotlib.collections.PathCollection at 0x1c68728f4f0>"
      ]
     },
     "execution_count": 7,
     "metadata": {},
     "output_type": "execute_result"
    },
    {
     "data": {
      "image/png": "[encoded data removed]",
      "text/plain": [
       "<Figure size 432x288 with 1 Axes>"
      ]
     },
     "metadata": {
      "needs_background": "light"
     },
     "output_type": "display_data"
    }
   ],
   "source": [
    "#try to plot x and y axis\n",
    "plt.scatter(x,y) #the shortcut of getting the signature and docstring or explore more just press shift+tab"
   ]
  },
  {
   "cell_type": "code",
   "execution_count": 8,
   "id": "5fe79f00",
   "metadata": {},
   "outputs": [
    {
     "data": {
      "image/png": "[encoded data removed]",
      "text/plain": [
       "<Figure size 432x288 with 1 Axes>"
      ]
     },
     "metadata": {
      "needs_background": "light"
     },
     "output_type": "display_data"
    }
   ],
   "source": [
    "plt.scatter(x,y,c='g') #c means here you can add color='b','y','r'\n",
    "plt.xlabel('X Axis')\n",
    "plt.ylabel('Y Axis')\n",
    "plt.title('Graph in 2D')\n",
    "plt.savefig('testgraph_1.png')"
   ]
  },
  {
   "cell_type": "code",
   "execution_count": 9,
   "id": "b8437898",
   "metadata": {},
   "outputs": [],
   "source": [
    "y=x*x"
   ]
  },
  {
   "cell_type": "code",
   "execution_count": 10,
   "id": "fb720b56",
   "metadata": {},
   "outputs": [
    {
     "data": {
      "text/plain": [
       "array([ 0,  1,  4,  9, 16, 25, 36, 49, 64, 81])"
      ]
     },
     "execution_count": 10,
     "metadata": {},
     "output_type": "execute_result"
    }
   ],
   "source": [
    "y"
   ]
  },
  {
   "cell_type": "code",
   "execution_count": 11,
   "id": "f8db2f4b",
   "metadata": {},
   "outputs": [
    {
     "data": {
      "text/plain": [
       "[<matplotlib.lines.Line2D at 0x1c687a11520>]"
      ]
     },
     "execution_count": 11,
     "metadata": {},
     "output_type": "execute_result"
    },
    {
     "data": {
      "image/png": "[encoded data removed]",
      "text/plain": [
       "<Figure size 432x288 with 1 Axes>"
      ]
     },
     "metadata": {
      "needs_background": "light"
     },
     "output_type": "display_data"
    }
   ],
   "source": [
    "#plt.plot(x,y,c='r*')\n",
    "plt.plot(x,y,'r*')"
   ]
  },
  {
   "cell_type": "code",
   "execution_count": 12,
   "id": "68a42370",
   "metadata": {},
   "outputs": [
    {
     "data": {
      "text/plain": [
       "[<matplotlib.lines.Line2D at 0x1c687ae7070>]"
      ]
     },
     "execution_count": 12,
     "metadata": {},
     "output_type": "execute_result"
    },
    {
     "data": {
      "image/png": "[encoded data removed]",
      "text/plain": [
       "<Figure size 432x288 with 1 Axes>"
      ]
     },
     "metadata": {
      "needs_background": "light"
     },
     "output_type": "display_data"
    }
   ],
   "source": [
    "plt.plot(x,y,'bo')"
   ]
  },
  {
   "cell_type": "code",
   "execution_count": 13,
   "id": "d8ff9c48",
   "metadata": {},
   "outputs": [
    {
     "data": {
      "text/plain": [
       "[<matplotlib.lines.Line2D at 0x1c687b43f70>]"
      ]
     },
     "execution_count": 13,
     "metadata": {},
     "output_type": "execute_result"
    },
    {
     "data": {
      "image/png": "[encoded data removed]",
      "text/plain": [
       "<Figure size 432x288 with 1 Axes>"
      ]
     },
     "metadata": {
      "needs_background": "light"
     },
     "output_type": "display_data"
    }
   ],
   "source": [
    "plt.plot(x,y,'b')"
   ]
  },
  {
   "cell_type": "code",
   "execution_count": 14,
   "id": "f933e30a",
   "metadata": {},
   "outputs": [
    {
     "data": {
      "text/plain": [
       "[<matplotlib.lines.Line2D at 0x1c687b9df10>]"
      ]
     },
     "execution_count": 14,
     "metadata": {},
     "output_type": "execute_result"
    },
    {
     "data": {
      "image/png": "[encoded data removed]",
      "text/plain": [
       "<Figure size 432x288 with 1 Axes>"
      ]
     },
     "metadata": {
      "needs_background": "light"
     },
     "output_type": "display_data"
    }
   ],
   "source": [
    "plt.plot(x,y,'bo',linestyle='dashed')"
   ]
  },
  {
   "cell_type": "code",
   "execution_count": 15,
   "id": "f672a016",
   "metadata": {},
   "outputs": [
    {
     "name": "stderr",
     "output_type": "stream",
     "text": [
      "C:\\Users\\USER\\AppData\\Local\\Temp/ipykernel_15028/1860405987.py:1: UserWarning: linestyle is redundantly defined by the 'linestyle' keyword argument and the fmt string \"r--\" (-> linestyle='--'). The keyword argument will take precedence.\n",
      "  plt.plot(x,y,'r--',linestyle='dashed')\n"
     ]
    },
    {
     "data": {
      "text/plain": [
       "[<matplotlib.lines.Line2D at 0x1c687c05f70>]"
      ]
     },
     "execution_count": 15,
     "metadata": {},
     "output_type": "execute_result"
    },
    {
     "data": {
      "image/png": "[encoded data removed]",
      "text/plain": [
       "<Figure size 432x288 with 1 Axes>"
      ]
     },
     "metadata": {
      "needs_background": "light"
     },
     "output_type": "display_data"
    }
   ],
   "source": [
    "plt.plot(x,y,'r--',linestyle='dashed')"
   ]
  },
  {
   "cell_type": "code",
   "execution_count": 21,
   "id": "cc805f43",
   "metadata": {
    "scrolled": true
   },
   "outputs": [
    {
     "data": {
      "text/plain": [
       "[<matplotlib.lines.Line2D at 0x1c687e74e80>]"
      ]
     },
     "execution_count": 21,
     "metadata": {},
     "output_type": "execute_result"
    },
    {
     "data": {
      "image/png": "[encoded data removed]",
      "text/plain": [
       "<Figure size 432x288 with 1 Axes>"
      ]
     },
     "metadata": {
      "needs_background": "light"
     },
     "output_type": "display_data"
    }
   ],
   "source": [
    "plt.plot(x,y,'ro',linestyle='dashed',linewidth=3)\n",
    "#as a note we have to know bo, r*, ro that are basically a marker"
   ]
  },
  {
   "cell_type": "code",
   "execution_count": 24,
   "id": "e95ed2c0",
   "metadata": {},
   "outputs": [
    {
     "data": {
      "text/plain": [
       "Text(0.5, 1.0, '2d Diagram')"
      ]
     },
     "execution_count": 24,
     "metadata": {},
     "output_type": "execute_result"
    },
    {
     "data": {
      "image/png": "[encoded data removed]",
      "text/plain": [
       "<Figure size 432x288 with 1 Axes>"
      ]
     },
     "metadata": {
      "needs_background": "light"
     },
     "output_type": "display_data"
    }
   ],
   "source": [
    "plt.plot(x,y,'ro',linestyle='dashed',linewidth=3,markersize=12)\n",
    "plt.xlabel('X Axis')\n",
    "plt.ylabel('Y Axis')\n",
    "plt.title('2d Diagram')"
   ]
  },
  {
   "cell_type": "code",
   "execution_count": 32,
   "id": "8f4095f7",
   "metadata": {},
   "outputs": [
    {
     "data": {
      "text/plain": [
       "[<matplotlib.lines.Line2D at 0x1c6896d74f0>]"
      ]
     },
     "execution_count": 32,
     "metadata": {},
     "output_type": "execute_result"
    },
    {
     "data": {
      "image/png": "[encoded data removed]",
      "text/plain": [
       "<Figure size 432x288 with 4 Axes>"
      ]
     },
     "metadata": {
      "needs_background": "light"
     },
     "output_type": "display_data"
    }
   ],
   "source": [
    "#creating subplots\n",
    "#what exactly subplots\n",
    "#this is my first diagram\n",
    "plt.subplot(2,2,1)\n",
    "plt.plot(x,y,'r--')\n",
    "\n",
    "#this is my second diagram\n",
    "plt.subplot(2,2,2)\n",
    "plt.plot(y,x,'g--')\n",
    "#this is my third diagram\n",
    "plt.subplot(2,2,3)\n",
    "plt.plot(y,x,'bo')\n",
    "#this is my fourth diagram\n",
    "plt.subplot(2,2,4)\n",
    "plt.plot(x,y,'y')"
   ]
  },
  {
   "cell_type": "code",
   "execution_count": 35,
   "id": "caf55a23",
   "metadata": {},
   "outputs": [
    {
     "data": {
      "text/plain": [
       "<BarContainer object of 4 artists>"
      ]
     },
     "execution_count": 35,
     "metadata": {},
     "output_type": "execute_result"
    },
    {
     "data": {
      "image/png": "[encoded data removed]",
      "text/plain": [
       "<Figure size 432x288 with 1 Axes>"
      ]
     },
     "metadata": {
      "needs_background": "light"
     },
     "output_type": "display_data"
    }
   ],
   "source": [
    "#bar plot\n",
    "x1=[2,3,4,5]\n",
    "y1=[11,16,19,20]\n",
    "\n",
    "x2=[3,9,11,14]\n",
    "y2=[6,15,7,9]\n",
    "plt.bar(x1,y1,color='g')\n",
    "plt.bar(x2,y2)"
   ]
  },
  {
   "cell_type": "code",
   "execution_count": 39,
   "id": "efe929e2",
   "metadata": {},
   "outputs": [
    {
     "data": {
      "text/plain": [
       "(array([3., 1., 2., 1., 1., 2., 2., 0., 1., 2.]),\n",
       " array([ 5. , 13.2, 21.4, 29.6, 37.8, 46. , 54.2, 62.4, 70.6, 78.8, 87. ]),\n",
       " <BarContainer object of 10 artists>)"
      ]
     },
     "execution_count": 39,
     "metadata": {},
     "output_type": "execute_result"
    },
    {
     "data": {
      "image/png": "[encoded data removed]",
      "text/plain": [
       "<Figure size 432x288 with 1 Axes>"
      ]
     },
     "metadata": {
      "needs_background": "light"
     },
     "output_type": "display_data"
    }
   ],
   "source": [
    "#histogram\n",
    "a=np.array([22,87,5,43,56,73,55,54,11,20,51,5,79,31,27])\n",
    "plt.hist(a,bins=10)#bins means your data can be divided inside the group. "
   ]
  },
  {
   "cell_type": "code",
   "execution_count": 40,
   "id": "30b498f6",
   "metadata": {},
   "outputs": [
    {
     "data": {
      "text/plain": [
       "[array([-0.04718055,  2.92726744, -1.19650939, -1.34012969, -3.2738699 ,\n",
       "        -0.33754958,  1.70734886,  1.19453695,  2.98378407,  1.07193317,\n",
       "        -0.76405868, -0.64634147, -0.91623665,  0.17684313, -0.76467079,\n",
       "         2.21937295, -0.23542242, -1.00033248,  0.94738137,  1.76060031,\n",
       "         0.40451513,  0.43802598,  0.68497243, -1.47535821, -0.41438055,\n",
       "         1.35460218, -0.33687038,  1.59637802,  1.29696428, -1.00622803,\n",
       "        -0.64729066, -0.44381631,  0.01942852, -0.63357074, -0.2600871 ,\n",
       "         0.02212439, -1.12350625, -1.50749503,  0.57782393,  0.45473227,\n",
       "         0.38590281,  0.66791391,  0.57589618, -0.74097393, -0.27751748,\n",
       "         0.9566725 ,  1.22697786,  0.36839414, -0.26017354,  0.59459515,\n",
       "        -1.06121329, -0.76885218,  1.40362542, -0.1686383 ,  1.59502161,\n",
       "         0.99606839,  1.17583241,  0.37305363, -0.54134125, -2.07555791,\n",
       "        -0.25592683, -0.94398993, -0.76632388,  1.37712761,  0.06776576,\n",
       "        -1.58810527,  1.23469704, -0.42255503, -0.99211079, -0.84077856,\n",
       "         2.73046541,  0.94328715, -1.73253108,  2.150215  , -0.93570624,\n",
       "        -1.10376986, -1.00632162, -2.0784684 , -0.28597946,  0.11119035,\n",
       "        -1.84679939,  0.26376439, -1.51865448, -0.15973432,  0.8836905 ,\n",
       "         0.03403768, -0.76884834, -0.98745121,  1.74669073,  0.2798252 ,\n",
       "        -0.41470891, -0.78041933, -0.04977477,  0.61419813, -0.62206761,\n",
       "         1.08634484, -1.69608893, -0.94453496, -0.18817191, -0.47981729]),\n",
       " array([-0.07642928, -5.65066588,  0.72205571, -1.78087582, -3.53242872,\n",
       "         1.68887659, -3.92672201,  0.38281161,  0.47129932, -0.44548287,\n",
       "        -0.27385522, -5.04933721,  0.49063064,  3.1796225 , -0.92243901,\n",
       "        -1.60867972, -0.49534975, -0.34509011,  0.2851137 ,  0.51551271,\n",
       "        -0.86698513, -1.90526951, -4.85755869, -0.08707478,  0.16683765,\n",
       "        -2.53450416, -2.01048011,  2.08520195, -1.47012589,  0.84870315,\n",
       "         1.74190739,  1.54137605, -1.49067813, -1.84366374, -1.153601  ,\n",
       "        -1.17879127, -2.09010218, -0.2429986 , -0.33927826, -0.73947729,\n",
       "        -4.48819406,  3.91801455, -0.32596449,  5.74543438, -3.14445419,\n",
       "         0.66007901, -3.22269386,  2.27475027, -1.98693922,  3.4194279 ,\n",
       "         0.30181991,  0.37797006, -1.05243533,  2.61554447,  1.79632647,\n",
       "         3.6805427 , -0.9363806 , -0.22349326, -1.37342744, -1.94734663,\n",
       "        -2.10316837, -1.2319704 ,  1.41398148, -0.71235656,  2.49484207,\n",
       "        -0.61556518,  3.98255481, -0.02120995, -0.49046409,  0.57586817,\n",
       "        -1.44663047, -0.45797241,  0.91742828, -1.32315063,  1.89440772,\n",
       "        -3.13354757,  2.29544411, -1.08969206, -0.03109453, -2.26387081,\n",
       "         0.73248305,  0.99049828, -0.73001211, -0.18170377,  0.23200242,\n",
       "         4.05235034, -1.95940854,  1.43960628, -1.64400448,  1.30249956,\n",
       "        -1.26306035, -0.74112158,  0.58967026, -1.00357382, -3.21611258,\n",
       "         2.18145351,  1.41257559,  0.28934075,  1.28059493,  0.57049951]),\n",
       " array([-0.95429639, -0.84013807, -0.70892219,  2.08407728,  5.29087659,\n",
       "         1.12887803, -2.48910653, -0.05164788, -1.85002211, -3.82104117,\n",
       "         2.11936316,  3.6045387 ,  3.2350887 ,  2.48773726,  3.64864195,\n",
       "        -3.90970025,  0.76204451,  2.13122207,  2.16123436,  2.40862462,\n",
       "         1.71348947, -2.57422295,  0.86260531,  1.33433469,  1.92010487,\n",
       "         4.30230948, -4.22552235,  0.37256573,  0.58297719, -1.4207756 ,\n",
       "         2.24009917,  4.52843111,  0.53248855,  0.01901264,  3.25333266,\n",
       "        -0.74536322, -0.27706431, -1.60451713,  3.30136515,  1.51908295,\n",
       "        -4.67904945,  0.50996028,  1.6054257 ,  1.39981324, -1.44439314,\n",
       "         3.24738142, -4.3811463 ,  2.34731897, -2.00895235,  0.27275137,\n",
       "        -1.13139803, -2.74383606,  0.76188494, -0.49678319,  2.29639684,\n",
       "         0.17700168, -2.24845845, -0.4821772 ,  3.4035273 ,  3.6611291 ,\n",
       "         2.70684101,  1.28926925, -3.06015652,  3.28990685,  1.49078599,\n",
       "        -6.49813591,  3.94753943,  0.82236674, -0.32006375,  3.90346281,\n",
       "        -6.27535246, -0.7842246 ,  4.90398395,  4.07237667,  1.57750744,\n",
       "        -4.78311454, -1.86046862, -4.25862175, -2.84288015,  2.69206121,\n",
       "        -2.27363453,  7.80242607, -1.81477692, -4.5411321 , -1.83914901,\n",
       "         2.01502157, -5.39767965, -2.01696213,  3.06593517, -5.26234435,\n",
       "         5.00411371,  0.67726141, -2.13371855,  1.47884976,  2.351501  ,\n",
       "        -0.02569517,  4.19374156,  0.44095527,  1.36644555, -4.10881975])]"
      ]
     },
     "execution_count": 40,
     "metadata": {},
     "output_type": "execute_result"
    }
   ],
   "source": [
    "##boxplot using matplotlib\n",
    "data=[np.random.normal(0,std,100) for std in range(1,4)] #its a concept of list comprenension\n",
    "data"
   ]
  },
  {
   "cell_type": "code",
   "execution_count": 41,
   "id": "415cb112",
   "metadata": {},
   "outputs": [
    {
     "data": {
      "text/plain": [
       "{'whiskers': [<matplotlib.lines.Line2D at 0x1c68aa747c0>,\n",
       "  <matplotlib.lines.Line2D at 0x1c68aa74b50>,\n",
       "  <matplotlib.lines.Line2D at 0x1c68aa8e130>,\n",
       "  <matplotlib.lines.Line2D at 0x1c68aa8e4c0>,\n",
       "  <matplotlib.lines.Line2D at 0x1c68aa98a60>,\n",
       "  <matplotlib.lines.Line2D at 0x1c68aa98df0>],\n",
       " 'caps': [<matplotlib.lines.Line2D at 0x1c68aa74ee0>,\n",
       "  <matplotlib.lines.Line2D at 0x1c68aa832b0>,\n",
       "  <matplotlib.lines.Line2D at 0x1c68aa8e850>,\n",
       "  <matplotlib.lines.Line2D at 0x1c68aa8ebe0>,\n",
       "  <matplotlib.lines.Line2D at 0x1c68aaa61c0>,\n",
       "  <matplotlib.lines.Line2D at 0x1c68aaa6550>],\n",
       " 'boxes': [<matplotlib.lines.Line2D at 0x1c68aa74430>,\n",
       "  <matplotlib.lines.Line2D at 0x1c68aa83d60>,\n",
       "  <matplotlib.lines.Line2D at 0x1c68aa986d0>],\n",
       " 'medians': [<matplotlib.lines.Line2D at 0x1c68aa83640>,\n",
       "  <matplotlib.lines.Line2D at 0x1c68aa8ef70>,\n",
       "  <matplotlib.lines.Line2D at 0x1c68aaa68e0>],\n",
       " 'fliers': [<matplotlib.lines.Line2D at 0x1c68aa839d0>,\n",
       "  <matplotlib.lines.Line2D at 0x1c68aa98340>,\n",
       "  <matplotlib.lines.Line2D at 0x1c68aaa6c70>],\n",
       " 'means': []}"
      ]
     },
     "execution_count": 41,
     "metadata": {},
     "output_type": "execute_result"
    },
    {
     "data": {
      "image/png": "[encoded data removed]",
      "text/plain": [
       "<Figure size 432x288 with 1 Axes>"
      ]
     },
     "metadata": {
      "needs_background": "light"
     },
     "output_type": "display_data"
    }
   ],
   "source": [
    "plt.boxplot(data)"
   ]
  },
  {
   "cell_type": "code",
   "execution_count": 46,
   "id": "5fca31d4",
   "metadata": {},
   "outputs": [
    {
     "data": {
      "image/png": "[encoded data removed]",
      "text/plain": [
       "<Figure size 432x288 with 1 Axes>"
      ]
     },
     "metadata": {},
     "output_type": "display_data"
    }
   ],
   "source": [
    "#Pie chart\n",
    "#once data to plot\n",
    "kaushiklabel='Python','Javascript','Ruby','Java'\n",
    "sizes=[215,130,245,210]\n",
    "kaushikcolors=['gold','yellowgreen','lightcoral','lightskyblue']\n",
    "kaushikexplode=(0.4,0,0,0) #explode 1st slice #howmuch outside it comes\n",
    "#plot\n",
    "plt.pie(sizes,explode=explode,labels=kaushiklabel,colors=kaushikcolors,autopct='%1.1f%%',shadow=False)\n",
    "plt.axis('equal')\n",
    "plt.show()"
   ]
  }
 ],
 "metadata": {
  "kernelspec": {
   "display_name": "Python 3 (ipykernel)",
   "language": "python",
   "name": "python3"
  },
  "language_info": {
   "codemirror_mode": {
    "name": "ipython",
    "version": 3
   },
   "file_extension": ".py",
   "mimetype": "text/x-python",
   "name": "python",
   "nbconvert_exporter": "python",
   "pygments_lexer": "ipython3",
   "version": "3.9.7"
  }
 },
 "nbformat": 4,
 "nbformat_minor": 5
}
